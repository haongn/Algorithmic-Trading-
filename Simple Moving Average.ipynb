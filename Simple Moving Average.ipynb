{
 "cells": [
  {
   "cell_type": "code",
   "execution_count": 1,
   "id": "7133a30f",
   "metadata": {},
   "outputs": [],
   "source": [
    "import numpy as np \n",
    "import pandas as pd \n",
    "import matplotlib.pyplot as plt \n",
    "%matplotlib inline "
   ]
  },
  {
   "cell_type": "markdown",
   "id": "88646dcb",
   "metadata": {},
   "source": [
    "This example works with end-of-day (EOD) closing data for the EUR/USD exchange rate (tỉ lệ hối đoái của đồng Euro và đồng USD)."
   ]
  },
  {
   "cell_type": "markdown",
   "id": "5a031b02",
   "metadata": {},
   "source": [
    "### 1. Import data"
   ]
  },
  {
   "cell_type": "code",
   "execution_count": 2,
   "id": "e0cd8133",
   "metadata": {},
   "outputs": [],
   "source": [
    "raw = pd.read_csv('Eikon EOD Data.csv', \n",
    "                 index_col = 0, parse_dates = True).dropna()"
   ]
  },
  {
   "cell_type": "code",
   "execution_count": 3,
   "id": "61ba56a9",
   "metadata": {},
   "outputs": [
    {
     "name": "stdout",
     "output_type": "stream",
     "text": [
      "<class 'pandas.core.frame.DataFrame'>\n",
      "DatetimeIndex: 2516 entries, 2010-01-04 to 2019-12-31\n",
      "Data columns (total 12 columns):\n",
      " #   Column  Non-Null Count  Dtype  \n",
      "---  ------  --------------  -----  \n",
      " 0   AAPL.O  2516 non-null   float64\n",
      " 1   MSFT.O  2516 non-null   float64\n",
      " 2   INTC.O  2516 non-null   float64\n",
      " 3   AMZN.O  2516 non-null   float64\n",
      " 4   GS.N    2516 non-null   float64\n",
      " 5   SPY     2516 non-null   float64\n",
      " 6   .SPX    2516 non-null   float64\n",
      " 7   .VIX    2516 non-null   float64\n",
      " 8   EUR=    2516 non-null   float64\n",
      " 9   XAU=    2516 non-null   float64\n",
      " 10  GDX     2516 non-null   float64\n",
      " 11  GLD     2516 non-null   float64\n",
      "dtypes: float64(12)\n",
      "memory usage: 255.5 KB\n"
     ]
    }
   ],
   "source": [
    "raw.info()"
   ]
  },
  {
   "cell_type": "code",
   "execution_count": 4,
   "id": "560bfabb",
   "metadata": {},
   "outputs": [
    {
     "data": {
      "text/html": [
       "<div>\n",
       "<style scoped>\n",
       "    .dataframe tbody tr th:only-of-type {\n",
       "        vertical-align: middle;\n",
       "    }\n",
       "\n",
       "    .dataframe tbody tr th {\n",
       "        vertical-align: top;\n",
       "    }\n",
       "\n",
       "    .dataframe thead th {\n",
       "        text-align: right;\n",
       "    }\n",
       "</style>\n",
       "<table border=\"1\" class=\"dataframe\">\n",
       "  <thead>\n",
       "    <tr style=\"text-align: right;\">\n",
       "      <th></th>\n",
       "      <th>AAPL.O</th>\n",
       "      <th>MSFT.O</th>\n",
       "      <th>INTC.O</th>\n",
       "      <th>AMZN.O</th>\n",
       "      <th>GS.N</th>\n",
       "      <th>SPY</th>\n",
       "      <th>.SPX</th>\n",
       "      <th>.VIX</th>\n",
       "      <th>EUR=</th>\n",
       "      <th>XAU=</th>\n",
       "      <th>GDX</th>\n",
       "      <th>GLD</th>\n",
       "    </tr>\n",
       "    <tr>\n",
       "      <th>Date</th>\n",
       "      <th></th>\n",
       "      <th></th>\n",
       "      <th></th>\n",
       "      <th></th>\n",
       "      <th></th>\n",
       "      <th></th>\n",
       "      <th></th>\n",
       "      <th></th>\n",
       "      <th></th>\n",
       "      <th></th>\n",
       "      <th></th>\n",
       "      <th></th>\n",
       "    </tr>\n",
       "  </thead>\n",
       "  <tbody>\n",
       "    <tr>\n",
       "      <th>2010-01-04</th>\n",
       "      <td>30.572827</td>\n",
       "      <td>30.95</td>\n",
       "      <td>20.88</td>\n",
       "      <td>133.90</td>\n",
       "      <td>173.08</td>\n",
       "      <td>113.33</td>\n",
       "      <td>1132.99</td>\n",
       "      <td>20.04</td>\n",
       "      <td>1.4411</td>\n",
       "      <td>1120.00</td>\n",
       "      <td>47.71</td>\n",
       "      <td>109.80</td>\n",
       "    </tr>\n",
       "    <tr>\n",
       "      <th>2010-01-05</th>\n",
       "      <td>30.625684</td>\n",
       "      <td>30.96</td>\n",
       "      <td>20.87</td>\n",
       "      <td>134.69</td>\n",
       "      <td>176.14</td>\n",
       "      <td>113.63</td>\n",
       "      <td>1136.52</td>\n",
       "      <td>19.35</td>\n",
       "      <td>1.4368</td>\n",
       "      <td>1118.65</td>\n",
       "      <td>48.17</td>\n",
       "      <td>109.70</td>\n",
       "    </tr>\n",
       "    <tr>\n",
       "      <th>2010-01-06</th>\n",
       "      <td>30.138541</td>\n",
       "      <td>30.77</td>\n",
       "      <td>20.80</td>\n",
       "      <td>132.25</td>\n",
       "      <td>174.26</td>\n",
       "      <td>113.71</td>\n",
       "      <td>1137.14</td>\n",
       "      <td>19.16</td>\n",
       "      <td>1.4412</td>\n",
       "      <td>1138.50</td>\n",
       "      <td>49.34</td>\n",
       "      <td>111.51</td>\n",
       "    </tr>\n",
       "  </tbody>\n",
       "</table>\n",
       "</div>"
      ],
      "text/plain": [
       "               AAPL.O  MSFT.O  INTC.O  AMZN.O    GS.N     SPY     .SPX   .VIX  \\\n",
       "Date                                                                            \n",
       "2010-01-04  30.572827   30.95   20.88  133.90  173.08  113.33  1132.99  20.04   \n",
       "2010-01-05  30.625684   30.96   20.87  134.69  176.14  113.63  1136.52  19.35   \n",
       "2010-01-06  30.138541   30.77   20.80  132.25  174.26  113.71  1137.14  19.16   \n",
       "\n",
       "              EUR=     XAU=    GDX     GLD  \n",
       "Date                                        \n",
       "2010-01-04  1.4411  1120.00  47.71  109.80  \n",
       "2010-01-05  1.4368  1118.65  48.17  109.70  \n",
       "2010-01-06  1.4412  1138.50  49.34  111.51  "
      ]
     },
     "execution_count": 4,
     "metadata": {},
     "output_type": "execute_result"
    }
   ],
   "source": [
    "raw.head(3)"
   ]
  },
  {
   "cell_type": "code",
   "execution_count": 5,
   "id": "32d339c2",
   "metadata": {},
   "outputs": [],
   "source": [
    "data = pd.DataFrame(raw['EUR='])    # (chọn cột EUR=) Transforms the Series object to a DataFrame object"
   ]
  },
  {
   "cell_type": "code",
   "execution_count": 6,
   "id": "c8e53356",
   "metadata": {},
   "outputs": [
    {
     "data": {
      "text/html": [
       "<div>\n",
       "<style scoped>\n",
       "    .dataframe tbody tr th:only-of-type {\n",
       "        vertical-align: middle;\n",
       "    }\n",
       "\n",
       "    .dataframe tbody tr th {\n",
       "        vertical-align: top;\n",
       "    }\n",
       "\n",
       "    .dataframe thead th {\n",
       "        text-align: right;\n",
       "    }\n",
       "</style>\n",
       "<table border=\"1\" class=\"dataframe\">\n",
       "  <thead>\n",
       "    <tr style=\"text-align: right;\">\n",
       "      <th></th>\n",
       "      <th>EUR=</th>\n",
       "    </tr>\n",
       "    <tr>\n",
       "      <th>Date</th>\n",
       "      <th></th>\n",
       "    </tr>\n",
       "  </thead>\n",
       "  <tbody>\n",
       "    <tr>\n",
       "      <th>2010-01-04</th>\n",
       "      <td>1.4411</td>\n",
       "    </tr>\n",
       "    <tr>\n",
       "      <th>2010-01-05</th>\n",
       "      <td>1.4368</td>\n",
       "    </tr>\n",
       "    <tr>\n",
       "      <th>2010-01-06</th>\n",
       "      <td>1.4412</td>\n",
       "    </tr>\n",
       "  </tbody>\n",
       "</table>\n",
       "</div>"
      ],
      "text/plain": [
       "              EUR=\n",
       "Date              \n",
       "2010-01-04  1.4411\n",
       "2010-01-05  1.4368\n",
       "2010-01-06  1.4412"
      ]
     },
     "execution_count": 6,
     "metadata": {},
     "output_type": "execute_result"
    }
   ],
   "source": [
    "data.head(3)"
   ]
  },
  {
   "cell_type": "code",
   "execution_count": 7,
   "id": "0da56f1d",
   "metadata": {},
   "outputs": [],
   "source": [
    "data.rename(columns = {'EUR=': 'price'}, inplace = True)    # Renames the only column to price"
   ]
  },
  {
   "cell_type": "code",
   "execution_count": 8,
   "id": "a4ec063d",
   "metadata": {},
   "outputs": [
    {
     "data": {
      "text/html": [
       "<div>\n",
       "<style scoped>\n",
       "    .dataframe tbody tr th:only-of-type {\n",
       "        vertical-align: middle;\n",
       "    }\n",
       "\n",
       "    .dataframe tbody tr th {\n",
       "        vertical-align: top;\n",
       "    }\n",
       "\n",
       "    .dataframe thead th {\n",
       "        text-align: right;\n",
       "    }\n",
       "</style>\n",
       "<table border=\"1\" class=\"dataframe\">\n",
       "  <thead>\n",
       "    <tr style=\"text-align: right;\">\n",
       "      <th></th>\n",
       "      <th>price</th>\n",
       "    </tr>\n",
       "    <tr>\n",
       "      <th>Date</th>\n",
       "      <th></th>\n",
       "    </tr>\n",
       "  </thead>\n",
       "  <tbody>\n",
       "    <tr>\n",
       "      <th>2010-01-04</th>\n",
       "      <td>1.4411</td>\n",
       "    </tr>\n",
       "    <tr>\n",
       "      <th>2010-01-05</th>\n",
       "      <td>1.4368</td>\n",
       "    </tr>\n",
       "    <tr>\n",
       "      <th>2010-01-06</th>\n",
       "      <td>1.4412</td>\n",
       "    </tr>\n",
       "  </tbody>\n",
       "</table>\n",
       "</div>"
      ],
      "text/plain": [
       "             price\n",
       "Date              \n",
       "2010-01-04  1.4411\n",
       "2010-01-05  1.4368\n",
       "2010-01-06  1.4412"
      ]
     },
     "execution_count": 8,
     "metadata": {},
     "output_type": "execute_result"
    }
   ],
   "source": [
    "data.head(3)"
   ]
  },
  {
   "cell_type": "code",
   "execution_count": 9,
   "id": "d969f082",
   "metadata": {},
   "outputs": [
    {
     "name": "stdout",
     "output_type": "stream",
     "text": [
      "<class 'pandas.core.frame.DataFrame'>\n",
      "DatetimeIndex: 2516 entries, 2010-01-04 to 2019-12-31\n",
      "Data columns (total 1 columns):\n",
      " #   Column  Non-Null Count  Dtype  \n",
      "---  ------  --------------  -----  \n",
      " 0   price   2516 non-null   float64\n",
      "dtypes: float64(1)\n",
      "memory usage: 39.3 KB\n"
     ]
    }
   ],
   "source": [
    "data.info()"
   ]
  },
  {
   "cell_type": "markdown",
   "id": "c440ae8d",
   "metadata": {},
   "source": [
    "### 2. Calculation of SMAs"
   ]
  },
  {
   "cell_type": "markdown",
   "id": "888f5e95",
   "metadata": {},
   "source": [
    "Calculation of SMAs using rolling() method: (ý tưởng là lấy trung bình cộng của các ngày trước đó)"
   ]
  },
  {
   "cell_type": "code",
   "execution_count": 10,
   "id": "addbbcc9",
   "metadata": {},
   "outputs": [],
   "source": [
    "data['SMA1'] = data['price'].rolling(42).mean()   # 42 days of SMA values, the first 42 values will be NaN"
   ]
  },
  {
   "cell_type": "code",
   "execution_count": 11,
   "id": "00085d48",
   "metadata": {},
   "outputs": [],
   "source": [
    "data['SMA2'] = data['price'].rolling(252).mean()  # 252 days of SMA values, the first 252 values will be NaN"
   ]
  },
  {
   "cell_type": "code",
   "execution_count": 12,
   "id": "c10be3e4",
   "metadata": {},
   "outputs": [
    {
     "data": {
      "text/html": [
       "<div>\n",
       "<style scoped>\n",
       "    .dataframe tbody tr th:only-of-type {\n",
       "        vertical-align: middle;\n",
       "    }\n",
       "\n",
       "    .dataframe tbody tr th {\n",
       "        vertical-align: top;\n",
       "    }\n",
       "\n",
       "    .dataframe thead th {\n",
       "        text-align: right;\n",
       "    }\n",
       "</style>\n",
       "<table border=\"1\" class=\"dataframe\">\n",
       "  <thead>\n",
       "    <tr style=\"text-align: right;\">\n",
       "      <th></th>\n",
       "      <th>price</th>\n",
       "      <th>SMA1</th>\n",
       "      <th>SMA2</th>\n",
       "    </tr>\n",
       "    <tr>\n",
       "      <th>Date</th>\n",
       "      <th></th>\n",
       "      <th></th>\n",
       "      <th></th>\n",
       "    </tr>\n",
       "  </thead>\n",
       "  <tbody>\n",
       "    <tr>\n",
       "      <th>2019-12-24</th>\n",
       "      <td>1.1087</td>\n",
       "      <td>1.107698</td>\n",
       "      <td>1.119630</td>\n",
       "    </tr>\n",
       "    <tr>\n",
       "      <th>2019-12-26</th>\n",
       "      <td>1.1096</td>\n",
       "      <td>1.107740</td>\n",
       "      <td>1.119529</td>\n",
       "    </tr>\n",
       "    <tr>\n",
       "      <th>2019-12-27</th>\n",
       "      <td>1.1175</td>\n",
       "      <td>1.107924</td>\n",
       "      <td>1.119428</td>\n",
       "    </tr>\n",
       "    <tr>\n",
       "      <th>2019-12-30</th>\n",
       "      <td>1.1197</td>\n",
       "      <td>1.108131</td>\n",
       "      <td>1.119333</td>\n",
       "    </tr>\n",
       "    <tr>\n",
       "      <th>2019-12-31</th>\n",
       "      <td>1.1210</td>\n",
       "      <td>1.108279</td>\n",
       "      <td>1.119231</td>\n",
       "    </tr>\n",
       "  </tbody>\n",
       "</table>\n",
       "</div>"
      ],
      "text/plain": [
       "             price      SMA1      SMA2\n",
       "Date                                  \n",
       "2019-12-24  1.1087  1.107698  1.119630\n",
       "2019-12-26  1.1096  1.107740  1.119529\n",
       "2019-12-27  1.1175  1.107924  1.119428\n",
       "2019-12-30  1.1197  1.108131  1.119333\n",
       "2019-12-31  1.1210  1.108279  1.119231"
      ]
     },
     "execution_count": 12,
     "metadata": {},
     "output_type": "execute_result"
    }
   ],
   "source": [
    "data.tail()"
   ]
  },
  {
   "cell_type": "code",
   "execution_count": 13,
   "id": "17595c92",
   "metadata": {},
   "outputs": [],
   "source": [
    "%matplotlib inline \n",
    "from pylab import mpl, plt \n",
    "\n",
    "plt.style.use('seaborn')\n",
    "mpl.rcParams['savefig.dpi'] = 300 \n",
    "mpl.rcParams['font.family'] = 'serif'"
   ]
  },
  {
   "cell_type": "code",
   "execution_count": 14,
   "id": "a4dc3b2e",
   "metadata": {},
   "outputs": [
    {
     "data": {
      "text/plain": [
       "<AxesSubplot:title={'center':'EUR/USD | 42 & 252 days SMAs'}, xlabel='Date'>"
      ]
     },
     "execution_count": 14,
     "metadata": {},
     "output_type": "execute_result"
    },
    {
     "data": {
      "image/png": "[encoded data removed]",
      "text/plain": [
       "<Figure size 720x432 with 1 Axes>"
      ]
     },
     "metadata": {},
     "output_type": "display_data"
    }
   ],
   "source": [
    "data.plot(title = 'EUR/USD | 42 & 252 days SMAs', \n",
    "          figsize = (10, 6))"
   ]
  },
  {
   "cell_type": "markdown",
   "id": "28e67da4",
   "metadata": {},
   "source": [
    "### 3. Generate signals, or rather market positionings"
   ]
  },
  {
   "cell_type": "markdown",
   "id": "2c67366b",
   "metadata": {},
   "source": [
    "Generate signals, or rather market positionings based on the relationship between the two SMAs."
   ]
  },
  {
   "cell_type": "markdown",
   "id": "3f256f12",
   "metadata": {},
   "source": [
    "Rule: go long whenever the shorter SMA (42 days) is above the longer one (252 days) and vice versa."
   ]
  },
  {
   "cell_type": "code",
   "execution_count": 15,
   "id": "f61e1147",
   "metadata": {},
   "outputs": [],
   "source": [
    "# compare two columns \n",
    "data['position'] = np.where(data['SMA1'] > data['SMA2'], 1, -1)  # if else code "
   ]
  },
  {
   "cell_type": "code",
   "execution_count": 16,
   "id": "934e9297",
   "metadata": {},
   "outputs": [],
   "source": [
    "# Deletes all rows of the data set that contain at least one NaN value\n",
    "data.dropna(inplace = True)"
   ]
  },
  {
   "cell_type": "code",
   "execution_count": 17,
   "id": "482807e0",
   "metadata": {},
   "outputs": [
    {
     "data": {
      "text/html": [
       "<div>\n",
       "<style scoped>\n",
       "    .dataframe tbody tr th:only-of-type {\n",
       "        vertical-align: middle;\n",
       "    }\n",
       "\n",
       "    .dataframe tbody tr th {\n",
       "        vertical-align: top;\n",
       "    }\n",
       "\n",
       "    .dataframe thead th {\n",
       "        text-align: right;\n",
       "    }\n",
       "</style>\n",
       "<table border=\"1\" class=\"dataframe\">\n",
       "  <thead>\n",
       "    <tr style=\"text-align: right;\">\n",
       "      <th></th>\n",
       "      <th>price</th>\n",
       "      <th>SMA1</th>\n",
       "      <th>SMA2</th>\n",
       "      <th>position</th>\n",
       "    </tr>\n",
       "    <tr>\n",
       "      <th>Date</th>\n",
       "      <th></th>\n",
       "      <th></th>\n",
       "      <th></th>\n",
       "      <th></th>\n",
       "    </tr>\n",
       "  </thead>\n",
       "  <tbody>\n",
       "    <tr>\n",
       "      <th>2010-12-31</th>\n",
       "      <td>1.3377</td>\n",
       "      <td>1.342579</td>\n",
       "      <td>1.326218</td>\n",
       "      <td>1</td>\n",
       "    </tr>\n",
       "    <tr>\n",
       "      <th>2011-01-03</th>\n",
       "      <td>1.3351</td>\n",
       "      <td>1.340945</td>\n",
       "      <td>1.325798</td>\n",
       "      <td>1</td>\n",
       "    </tr>\n",
       "    <tr>\n",
       "      <th>2011-01-04</th>\n",
       "      <td>1.3301</td>\n",
       "      <td>1.338940</td>\n",
       "      <td>1.325374</td>\n",
       "      <td>1</td>\n",
       "    </tr>\n",
       "  </tbody>\n",
       "</table>\n",
       "</div>"
      ],
      "text/plain": [
       "             price      SMA1      SMA2  position\n",
       "Date                                            \n",
       "2010-12-31  1.3377  1.342579  1.326218         1\n",
       "2011-01-03  1.3351  1.340945  1.325798         1\n",
       "2011-01-04  1.3301  1.338940  1.325374         1"
      ]
     },
     "execution_count": 17,
     "metadata": {},
     "output_type": "execute_result"
    }
   ],
   "source": [
    "data.head(3)"
   ]
  },
  {
   "cell_type": "code",
   "execution_count": 18,
   "id": "8ed6048e",
   "metadata": {},
   "outputs": [
    {
     "data": {
      "text/plain": [
       "<AxesSubplot:title={'center':'Market Positioning'}, xlabel='Date'>"
      ]
     },
     "execution_count": 18,
     "metadata": {},
     "output_type": "execute_result"
    },
    {
     "data": {
      "image/png": "[encoded data removed]",
      "text/plain": [
       "<Figure size 720x432 with 1 Axes>"
      ]
     },
     "metadata": {},
     "output_type": "display_data"
    }
   ],
   "source": [
    "data['position'].plot(ylim = [-1.1, 1.1], \n",
    "                      title = 'Market Positioning', \n",
    "                      figsize = (10, 6))"
   ]
  },
  {
   "cell_type": "markdown",
   "id": "1a22957e",
   "metadata": {},
   "source": [
    "### 4. Calculate the performance of the strategy"
   ]
  },
  {
   "cell_type": "markdown",
   "id": "da077226",
   "metadata": {},
   "source": [
    "Calculate the log returns based on the original financial time series. "
   ]
  },
  {
   "cell_type": "code",
   "execution_count": 19,
   "id": "4e858c52",
   "metadata": {},
   "outputs": [],
   "source": [
    "data['returns'] = np.log(data['price'] / data['price'].shift(1))   # price day i + 1 / price day i"
   ]
  },
  {
   "cell_type": "code",
   "execution_count": 20,
   "id": "b9781517",
   "metadata": {},
   "outputs": [
    {
     "data": {
      "text/html": [
       "<div>\n",
       "<style scoped>\n",
       "    .dataframe tbody tr th:only-of-type {\n",
       "        vertical-align: middle;\n",
       "    }\n",
       "\n",
       "    .dataframe tbody tr th {\n",
       "        vertical-align: top;\n",
       "    }\n",
       "\n",
       "    .dataframe thead th {\n",
       "        text-align: right;\n",
       "    }\n",
       "</style>\n",
       "<table border=\"1\" class=\"dataframe\">\n",
       "  <thead>\n",
       "    <tr style=\"text-align: right;\">\n",
       "      <th></th>\n",
       "      <th>price</th>\n",
       "      <th>SMA1</th>\n",
       "      <th>SMA2</th>\n",
       "      <th>position</th>\n",
       "      <th>returns</th>\n",
       "    </tr>\n",
       "    <tr>\n",
       "      <th>Date</th>\n",
       "      <th></th>\n",
       "      <th></th>\n",
       "      <th></th>\n",
       "      <th></th>\n",
       "      <th></th>\n",
       "    </tr>\n",
       "  </thead>\n",
       "  <tbody>\n",
       "    <tr>\n",
       "      <th>2010-12-31</th>\n",
       "      <td>1.3377</td>\n",
       "      <td>1.342579</td>\n",
       "      <td>1.326218</td>\n",
       "      <td>1</td>\n",
       "      <td>NaN</td>\n",
       "    </tr>\n",
       "    <tr>\n",
       "      <th>2011-01-03</th>\n",
       "      <td>1.3351</td>\n",
       "      <td>1.340945</td>\n",
       "      <td>1.325798</td>\n",
       "      <td>1</td>\n",
       "      <td>-0.001946</td>\n",
       "    </tr>\n",
       "    <tr>\n",
       "      <th>2011-01-04</th>\n",
       "      <td>1.3301</td>\n",
       "      <td>1.338940</td>\n",
       "      <td>1.325374</td>\n",
       "      <td>1</td>\n",
       "      <td>-0.003752</td>\n",
       "    </tr>\n",
       "  </tbody>\n",
       "</table>\n",
       "</div>"
      ],
      "text/plain": [
       "             price      SMA1      SMA2  position   returns\n",
       "Date                                                      \n",
       "2010-12-31  1.3377  1.342579  1.326218         1       NaN\n",
       "2011-01-03  1.3351  1.340945  1.325798         1 -0.001946\n",
       "2011-01-04  1.3301  1.338940  1.325374         1 -0.003752"
      ]
     },
     "execution_count": 20,
     "metadata": {},
     "output_type": "execute_result"
    }
   ],
   "source": [
    "data.head(3)   # giá trị đầu tiên của returns sẽ là NaN, vì không có ngày trước ngày đó"
   ]
  },
  {
   "cell_type": "code",
   "execution_count": 27,
   "id": "a0d796f1",
   "metadata": {},
   "outputs": [
    {
     "data": {
      "text/plain": [
       "<AxesSubplot:>"
      ]
     },
     "execution_count": 27,
     "metadata": {},
     "output_type": "execute_result"
    },
    {
     "data": {
      "image/png": "[encoded data removed]",
      "text/plain": [
       "<Figure size 720x432 with 1 Axes>"
      ]
     },
     "metadata": {},
     "output_type": "display_data"
    }
   ],
   "source": [
    "# plot the log returns as a histogram \n",
    "data['returns'].hist(bins = 35, figsize = (10, 6))  "
   ]
  },
  {
   "cell_type": "markdown",
   "id": "7c19094e",
   "metadata": {},
   "source": [
    "### 5. Derive the strategy returns "
   ]
  },
  {
   "cell_type": "code",
   "execution_count": 28,
   "id": "8ba15191",
   "metadata": {},
   "outputs": [
    {
     "data": {
      "text/html": [
       "<div>\n",
       "<style scoped>\n",
       "    .dataframe tbody tr th:only-of-type {\n",
       "        vertical-align: middle;\n",
       "    }\n",
       "\n",
       "    .dataframe tbody tr th {\n",
       "        vertical-align: top;\n",
       "    }\n",
       "\n",
       "    .dataframe thead th {\n",
       "        text-align: right;\n",
       "    }\n",
       "</style>\n",
       "<table border=\"1\" class=\"dataframe\">\n",
       "  <thead>\n",
       "    <tr style=\"text-align: right;\">\n",
       "      <th></th>\n",
       "      <th>price</th>\n",
       "      <th>SMA1</th>\n",
       "      <th>SMA2</th>\n",
       "      <th>position</th>\n",
       "      <th>returns</th>\n",
       "      <th>strategy</th>\n",
       "    </tr>\n",
       "    <tr>\n",
       "      <th>Date</th>\n",
       "      <th></th>\n",
       "      <th></th>\n",
       "      <th></th>\n",
       "      <th></th>\n",
       "      <th></th>\n",
       "      <th></th>\n",
       "    </tr>\n",
       "  </thead>\n",
       "  <tbody>\n",
       "    <tr>\n",
       "      <th>2010-12-31</th>\n",
       "      <td>1.3377</td>\n",
       "      <td>1.342579</td>\n",
       "      <td>1.326218</td>\n",
       "      <td>1</td>\n",
       "      <td>NaN</td>\n",
       "      <td>NaN</td>\n",
       "    </tr>\n",
       "    <tr>\n",
       "      <th>2011-01-03</th>\n",
       "      <td>1.3351</td>\n",
       "      <td>1.340945</td>\n",
       "      <td>1.325798</td>\n",
       "      <td>1</td>\n",
       "      <td>-0.001946</td>\n",
       "      <td>-0.001946</td>\n",
       "    </tr>\n",
       "    <tr>\n",
       "      <th>2011-01-04</th>\n",
       "      <td>1.3301</td>\n",
       "      <td>1.338940</td>\n",
       "      <td>1.325374</td>\n",
       "      <td>1</td>\n",
       "      <td>-0.003752</td>\n",
       "      <td>-0.003752</td>\n",
       "    </tr>\n",
       "  </tbody>\n",
       "</table>\n",
       "</div>"
      ],
      "text/plain": [
       "             price      SMA1      SMA2  position   returns  strategy\n",
       "Date                                                                \n",
       "2010-12-31  1.3377  1.342579  1.326218         1       NaN       NaN\n",
       "2011-01-03  1.3351  1.340945  1.325798         1 -0.001946 -0.001946\n",
       "2011-01-04  1.3301  1.338940  1.325374         1 -0.003752 -0.003752"
      ]
     },
     "execution_count": 28,
     "metadata": {},
     "output_type": "execute_result"
    }
   ],
   "source": [
    "data.head(3)"
   ]
  },
  {
   "cell_type": "code",
   "execution_count": null,
   "id": "605b09a3",
   "metadata": {},
   "outputs": [],
   "source": []
  },
  {
   "cell_type": "code",
   "execution_count": 22,
   "id": "d2c973a9",
   "metadata": {},
   "outputs": [],
   "source": [
    "# derive the log returns of the strategy given the positionings and market returns \n",
    "data['strategy'] = data['position'].shift(1) * data['returns']"
   ]
  },
  {
   "cell_type": "code",
   "execution_count": 23,
   "id": "682aff26",
   "metadata": {},
   "outputs": [
    {
     "data": {
      "text/plain": [
       "returns    -0.176731\n",
       "strategy    0.253121\n",
       "dtype: float64"
      ]
     },
     "execution_count": 23,
     "metadata": {},
     "output_type": "execute_result"
    }
   ],
   "source": [
    "# sum up the single log return values for both the stock and the strategy\n",
    "data[['returns', 'strategy']].sum()  "
   ]
  },
  {
   "cell_type": "markdown",
   "id": "20f49c2a",
   "metadata": {},
   "source": [
    "=> The strategy books a win over the passive benchmark investment."
   ]
  },
  {
   "cell_type": "code",
   "execution_count": 24,
   "id": "2cfd6d8d",
   "metadata": {},
   "outputs": [
    {
     "data": {
      "text/plain": [
       "returns     0.838006\n",
       "strategy    1.288039\n",
       "dtype: float64"
      ]
     },
     "execution_count": 24,
     "metadata": {},
     "output_type": "execute_result"
    }
   ],
   "source": [
    "data[['returns', 'strategy']].sum().apply(np.exp)   # calculate gross performance (tổng lợi nhuận)"
   ]
  },
  {
   "cell_type": "code",
   "execution_count": 25,
   "id": "8c99f4b0",
   "metadata": {},
   "outputs": [
    {
     "data": {
      "text/plain": [
       "<AxesSubplot:xlabel='Date'>"
      ]
     },
     "execution_count": 25,
     "metadata": {},
     "output_type": "execute_result"
    },
    {
     "data": {
      "image/png": "[encoded data removed]",
      "text/plain": [
       "<Figure size 720x432 with 1 Axes>"
      ]
     },
     "metadata": {},
     "output_type": "display_data"
    }
   ],
   "source": [
    "# tính tổng tích lũy \n",
    "data[['returns', 'strategy']].cumsum().apply(np.exp).plot(figsize = (10, 6))"
   ]
  },
  {
   "cell_type": "markdown",
   "id": "57862d9e",
   "metadata": {},
   "source": [
    "=> SMA-based strategy có lợi nhuận tốt hơn so với lợi nhuận thông thường."
   ]
  },
  {
   "cell_type": "markdown",
   "id": "e7df77ea",
   "metadata": {},
   "source": [
    "Nhận xét: Trong khoảng 9 năm, nhưng lợi nhuận chỉ được khoảng 0.3 -0.4 lần giá trị đầu tư. Theo mình thấy thì nó khá là ít."
   ]
  },
  {
   "cell_type": "code",
   "execution_count": null,
   "id": "8f489a88",
   "metadata": {},
   "outputs": [],
   "source": []
  },
  {
   "cell_type": "code",
   "execution_count": 30,
   "id": "61b5769a",
   "metadata": {},
   "outputs": [
    {
     "data": {
      "text/plain": [
       "returns    -0.019671\n",
       "strategy    0.028174\n",
       "dtype: float64"
      ]
     },
     "execution_count": 30,
     "metadata": {},
     "output_type": "execute_result"
    }
   ],
   "source": [
    "data[['returns', 'strategy']].mean() * 252 "
   ]
  },
  {
   "cell_type": "code",
   "execution_count": 31,
   "id": "ca4250b1",
   "metadata": {},
   "outputs": [
    {
     "data": {
      "text/plain": [
       "returns    -0.019479\n",
       "strategy    0.028575\n",
       "dtype: float64"
      ]
     },
     "execution_count": 31,
     "metadata": {},
     "output_type": "execute_result"
    }
   ],
   "source": [
    "np.exp(data[['returns', 'strategy']].mean() * 252) - 1"
   ]
  },
  {
   "cell_type": "code",
   "execution_count": 33,
   "id": "75fe1428",
   "metadata": {},
   "outputs": [
    {
     "data": {
      "text/plain": [
       "returns     0.085414\n",
       "strategy    0.085405\n",
       "dtype: float64"
      ]
     },
     "execution_count": 33,
     "metadata": {},
     "output_type": "execute_result"
    }
   ],
   "source": [
    "data[['returns', 'strategy']].std() * 252 ** 0.5"
   ]
  },
  {
   "cell_type": "code",
   "execution_count": 35,
   "id": "3203d3b6",
   "metadata": {},
   "outputs": [
    {
     "data": {
      "text/plain": [
       "returns     0.085405\n",
       "strategy    0.085373\n",
       "dtype: float64"
      ]
     },
     "execution_count": 35,
     "metadata": {},
     "output_type": "execute_result"
    }
   ],
   "source": [
    "(data[['returns', 'strategy']].apply(np.exp) - 1).std() * 252 ** 0.5"
   ]
  },
  {
   "cell_type": "code",
   "execution_count": null,
   "id": "ff2fb7de",
   "metadata": {},
   "outputs": [],
   "source": []
  },
  {
   "cell_type": "code",
   "execution_count": 36,
   "id": "e7b7d16e",
   "metadata": {},
   "outputs": [],
   "source": [
    "data['cumret'] = data['strategy'].cumsum().apply(np.exp)"
   ]
  },
  {
   "cell_type": "code",
   "execution_count": 37,
   "id": "7eabc923",
   "metadata": {},
   "outputs": [],
   "source": [
    "data['cummax'] = data['cumret'].cummax()"
   ]
  },
  {
   "cell_type": "code",
   "execution_count": 38,
   "id": "c9eded87",
   "metadata": {},
   "outputs": [
    {
     "data": {
      "text/html": [
       "<div>\n",
       "<style scoped>\n",
       "    .dataframe tbody tr th:only-of-type {\n",
       "        vertical-align: middle;\n",
       "    }\n",
       "\n",
       "    .dataframe tbody tr th {\n",
       "        vertical-align: top;\n",
       "    }\n",
       "\n",
       "    .dataframe thead th {\n",
       "        text-align: right;\n",
       "    }\n",
       "</style>\n",
       "<table border=\"1\" class=\"dataframe\">\n",
       "  <thead>\n",
       "    <tr style=\"text-align: right;\">\n",
       "      <th></th>\n",
       "      <th>price</th>\n",
       "      <th>SMA1</th>\n",
       "      <th>SMA2</th>\n",
       "      <th>position</th>\n",
       "      <th>returns</th>\n",
       "      <th>strategy</th>\n",
       "      <th>cumret</th>\n",
       "      <th>cummax</th>\n",
       "    </tr>\n",
       "    <tr>\n",
       "      <th>Date</th>\n",
       "      <th></th>\n",
       "      <th></th>\n",
       "      <th></th>\n",
       "      <th></th>\n",
       "      <th></th>\n",
       "      <th></th>\n",
       "      <th></th>\n",
       "      <th></th>\n",
       "    </tr>\n",
       "  </thead>\n",
       "  <tbody>\n",
       "    <tr>\n",
       "      <th>2010-12-31</th>\n",
       "      <td>1.3377</td>\n",
       "      <td>1.342579</td>\n",
       "      <td>1.326218</td>\n",
       "      <td>1</td>\n",
       "      <td>NaN</td>\n",
       "      <td>NaN</td>\n",
       "      <td>NaN</td>\n",
       "      <td>NaN</td>\n",
       "    </tr>\n",
       "    <tr>\n",
       "      <th>2011-01-03</th>\n",
       "      <td>1.3351</td>\n",
       "      <td>1.340945</td>\n",
       "      <td>1.325798</td>\n",
       "      <td>1</td>\n",
       "      <td>-0.001946</td>\n",
       "      <td>-0.001946</td>\n",
       "      <td>0.998056</td>\n",
       "      <td>0.998056</td>\n",
       "    </tr>\n",
       "    <tr>\n",
       "      <th>2011-01-04</th>\n",
       "      <td>1.3301</td>\n",
       "      <td>1.338940</td>\n",
       "      <td>1.325374</td>\n",
       "      <td>1</td>\n",
       "      <td>-0.003752</td>\n",
       "      <td>-0.003752</td>\n",
       "      <td>0.994319</td>\n",
       "      <td>0.998056</td>\n",
       "    </tr>\n",
       "  </tbody>\n",
       "</table>\n",
       "</div>"
      ],
      "text/plain": [
       "             price      SMA1      SMA2  position   returns  strategy  \\\n",
       "Date                                                                   \n",
       "2010-12-31  1.3377  1.342579  1.326218         1       NaN       NaN   \n",
       "2011-01-03  1.3351  1.340945  1.325798         1 -0.001946 -0.001946   \n",
       "2011-01-04  1.3301  1.338940  1.325374         1 -0.003752 -0.003752   \n",
       "\n",
       "              cumret    cummax  \n",
       "Date                            \n",
       "2010-12-31       NaN       NaN  \n",
       "2011-01-03  0.998056  0.998056  \n",
       "2011-01-04  0.994319  0.998056  "
      ]
     },
     "execution_count": 38,
     "metadata": {},
     "output_type": "execute_result"
    }
   ],
   "source": [
    "data.head(3)"
   ]
  },
  {
   "cell_type": "code",
   "execution_count": 39,
   "id": "872d483b",
   "metadata": {},
   "outputs": [
    {
     "data": {
      "text/plain": [
       "<AxesSubplot:xlabel='Date'>"
      ]
     },
     "execution_count": 39,
     "metadata": {},
     "output_type": "execute_result"
    },
    {
     "data": {
      "image/png": "[encoded data removed]",
      "text/plain": [
       "<Figure size 720x432 with 1 Axes>"
      ]
     },
     "metadata": {},
     "output_type": "display_data"
    }
   ],
   "source": [
    "# cummulative return versus cummulative maximum return \n",
    "data[['cumret', 'cummax']].dropna().plot(figsize = (10, 6))"
   ]
  },
  {
   "cell_type": "code",
   "execution_count": 40,
   "id": "34d08b1d",
   "metadata": {},
   "outputs": [],
   "source": [
    "drawdown = data['cummax'] - data['cumret']"
   ]
  },
  {
   "cell_type": "code",
   "execution_count": 42,
   "id": "37e359b7",
   "metadata": {},
   "outputs": [
    {
     "data": {
      "text/plain": [
       "Date\n",
       "2010-12-31         NaN\n",
       "2011-01-03    0.000000\n",
       "2011-01-04    0.003738\n",
       "2011-01-05    0.014951\n",
       "2011-01-06    0.026164\n",
       "dtype: float64"
      ]
     },
     "execution_count": 42,
     "metadata": {},
     "output_type": "execute_result"
    }
   ],
   "source": [
    "drawdown.head()"
   ]
  },
  {
   "cell_type": "code",
   "execution_count": 43,
   "id": "2a288a98",
   "metadata": {},
   "outputs": [
    {
     "data": {
      "text/plain": [
       "0.17779367070195895"
      ]
     },
     "execution_count": 43,
     "metadata": {},
     "output_type": "execute_result"
    }
   ],
   "source": [
    "drawdown.max()"
   ]
  },
  {
   "cell_type": "code",
   "execution_count": null,
   "id": "9e3ea9e9",
   "metadata": {},
   "outputs": [],
   "source": []
  }
 ],
 "metadata": {
  "kernelspec": {
   "display_name": "Python 3 (ipykernel)",
   "language": "python",
   "name": "python3"
  },
  "language_info": {
   "codemirror_mode": {
    "name": "ipython",
    "version": 3
   },
   "file_extension": ".py",
   "mimetype": "text/x-python",
   "name": "python",
   "nbconvert_exporter": "python",
   "pygments_lexer": "ipython3",
   "version": "3.8.3"
  }
 },
 "nbformat": 4,
 "nbformat_minor": 5
}
