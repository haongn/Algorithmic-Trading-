{
 "cells": [
  {
   "cell_type": "markdown",
   "id": "ff8e05ea",
   "metadata": {},
   "source": [
    "### 1. Momentum Backtesting class"
   ]
  },
  {
   "cell_type": "markdown",
   "id": "3bfaf0c4",
   "metadata": {},
   "source": [
    "Ham nay sai o dau do, sach viet ham chua chuan. "
   ]
  },
  {
   "cell_type": "code",
   "execution_count": 9,
   "id": "c567d3b3",
   "metadata": {},
   "outputs": [],
   "source": [
    "import numpy as np \n",
    "import pandas as pd \n",
    "\n",
    "\n",
    "class MomVectorBacktester(object): \n",
    "    \"\"\"Class for the vectorized backtesting of momentum-based trading strategies.\n",
    "    \n",
    "    Attributes:\n",
    "    ==========\n",
    "    symbol: str \n",
    "        RIC (financial instrument) to work with\n",
    "    start: str\n",
    "        start date for data selection \n",
    "    end: str \n",
    "        end date for data selection \n",
    "    amount: int, float \n",
    "        amount to be invested at the beginning \n",
    "    tc: float \n",
    "        proportional transaction costs (e.g., 0.5% = 0.005) per trade \n",
    "        \n",
    "    Methods:\n",
    "    =======\n",
    "    get_data: \n",
    "        retrieves and prepares the base data set \n",
    "    run_strategy: \n",
    "        runs the backtest for the momentum-based strategy \n",
    "    plot_results:\n",
    "        plots the performance of the strategy compared to the symbol \n",
    "    \"\"\"\n",
    "    \n",
    "    def __init__(self, symbol, start, end, amount, tc): \n",
    "        self.symbol = symbol\n",
    "        self.start = start\n",
    "        self.end = end\n",
    "        self.amount = amount\n",
    "        self.tc = tc\n",
    "        self.results = None \n",
    "        self.get_data()       # call get_data() method in __init__ method \n",
    "        \n",
    "    def get_data(self):\n",
    "        \"\"\"Retrieves and prepares data.\"\"\"\n",
    "        raw = pd.read_csv('http://hilpisch.com/pyalgo_eikon_eod_data.csv', \n",
    "                          index_col = 0, parse_dates = True).dropna()\n",
    "        raw = pd.DataFrame(raw[self.symbol])\n",
    "        raw = raw.loc[self.start:self.end]      # location (index)\n",
    "        raw.rename(columns = {self.symbol: 'price'}, inplace = True)\n",
    "        raw['return'] = np.log(raw / raw.shift(1))\n",
    "        self.data = raw       # create a new attribute (DataFrame object)\n",
    "        \n",
    "    def run_strategy(self, momentum = 1): \n",
    "        \"\"\"Backtests the trading strategy.\"\"\"\n",
    "        self.momentum = momentum \n",
    "        data = self.data.copy().dropna()  \n",
    "        data['position'] = np.sign(data['return'].rolling(momentum).mean())\n",
    "        data['strategy'] = data['position'].shift(1) * data['return']\n",
    "        \n",
    "        # determine when a trade takes place \n",
    "        data.dropna(inplace = True)\n",
    "        data['strategy'] = data['position'].diff().fillna(0) != 0 \n",
    "        \n",
    "        # subtract transaction costs from return when trade takes place \n",
    "        data['strategy'] -= self.tc                                                   # ????\n",
    "        data['creturns'] = self.amount * data['return'].cumsum().apply(np.exp)\n",
    "        data['cstrategy'] = self.amount * data['strategy'].cumsum().apply(np.exp)     # ???    \n",
    "\n",
    "        self.results = data\n",
    "\n",
    "        # absolute performance of the strategy\n",
    "        aperf = self.results['creturns'].iloc[-1]\n",
    "\n",
    "        # out-/underperformance of strategy \n",
    "        operf = aperf - self.results['creturns'].iloc[-1]\n",
    "\n",
    "        return round(aperf, 2), round(operf, 2)\n",
    "\n",
    "    def plot_results(self):\n",
    "        \"\"\"Plots the cumulative performance of the trading strategy compared to the symbol.\"\"\"\n",
    "        if self.results is None:\n",
    "            print('No results to plot yet. Run a strategy.')\n",
    "        title = '%s | TC = %.4f' % (self.symbol, self.tc)\n",
    "        self.results[['creturns', 'cstrategy']].plot(title = title, figsize=(10, 6))"
   ]
  },
  {
   "cell_type": "code",
   "execution_count": 12,
   "id": "dc5e4c6e",
   "metadata": {},
   "outputs": [
    {
     "name": "stdout",
     "output_type": "stream",
     "text": [
      "(13561.08, 0.0)\n",
      "(13324.64, 0.0)\n",
      "(13324.64, 0.0)\n"
     ]
    },
    {
     "name": "stderr",
     "output_type": "stream",
     "text": [
      "D:\\anaconda3\\lib\\site-packages\\matplotlib\\ticker.py:2072: RuntimeWarning: overflow encountered in multiply\n",
      "  steps = self._extended_steps * scale\n"
     ]
    },
    {
     "data": {
      "image/png": "[encoded data removed]",
      "text/plain": [
       "<Figure size 720x432 with 1 Axes>"
      ]
     },
     "metadata": {
      "needs_background": "light"
     },
     "output_type": "display_data"
    }
   ],
   "source": [
    "if __name__ == '__main__':\n",
    "    mombt = MomVectorBacktester('XAU=', '2010-1-1', '2020-12-31', 10000, 0.0)\n",
    "    print(mombt.run_strategy())\n",
    "    print(mombt.run_strategy(momentum = 2))\n",
    "    mombt = MomVectorBacktester('XAU=', '2010-1-1', '2020-12-31', 10000, 0.001)\n",
    "    print(mombt.run_strategy(momentum = 2))\n",
    "    \n",
    "    mombt.plot_results()"
   ]
  },
  {
   "cell_type": "code",
   "execution_count": null,
   "id": "058a9b90",
   "metadata": {},
   "outputs": [],
   "source": []
  }
 ],
 "metadata": {
  "kernelspec": {
   "display_name": "Python 3 (ipykernel)",
   "language": "python",
   "name": "python3"
  },
  "language_info": {
   "codemirror_mode": {
    "name": "ipython",
    "version": 3
   },
   "file_extension": ".py",
   "mimetype": "text/x-python",
   "name": "python",
   "nbconvert_exporter": "python",
   "pygments_lexer": "ipython3",
   "version": "3.8.3"
  }
 },
 "nbformat": 4,
 "nbformat_minor": 5
}
